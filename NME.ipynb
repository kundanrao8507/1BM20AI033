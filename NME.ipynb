{
  "nbformat": 4,
  "nbformat_minor": 0,
  "metadata": {
    "colab": {
      "provenance": []
    },
    "kernelspec": {
      "name": "python3",
      "display_name": "Python 3"
    },
    "language_info": {
      "name": "python"
    }
  },
  "cells": [
    {
      "cell_type": "markdown",
      "source": [
        "Program 1\n",
        "\n",
        "Rayleigh power method"
      ],
      "metadata": {
        "id": "W2QGg5wbjmqr"
      }
    },
    {
      "cell_type": "code",
      "source": [
        "def rayleigh_power_method(A, num_iterations):\n",
        "    n = len(A)\n",
        "    x = [1] * n\n",
        "    for _ in range(num_iterations):\n",
        "        y = [0] * n\n",
        "        for i in range(n):\n",
        "            for j in range(n):\n",
        "                y[i] += A[i][j] * x[j]\n",
        "        norm = max(y)\n",
        "        x = [val / norm for val in y]\n",
        "    return norm, x\n",
        "\n",
        "# Example usage\n",
        "A = [[1, 2, 3], [4, 5, 6], [7, 8, 9]]\n",
        "num_iterations = 10\n",
        "eigenvalue, eigenvector = rayleigh_power_method(A, num_iterations)\n",
        "print(\"Eigenvalue:\", eigenvalue)\n",
        "print(\"Eigenvector:\", eigenvector)\n"
      ],
      "metadata": {
        "colab": {
          "base_uri": "https://localhost:8080/"
        },
        "id": "6hTqMEo9j_CL",
        "outputId": "665ab9f1-be39-4d2c-d950-f87ed6936f03"
      },
      "execution_count": 2,
      "outputs": [
        {
          "output_type": "stream",
          "name": "stdout",
          "text": [
            "Eigenvalue: 16.116843969607736\n",
            "Eigenvector: [0.2833494518018958, 0.6416747259009479, 1.0]\n"
          ]
        }
      ]
    },
    {
      "cell_type": "markdown",
      "source": [
        "Jacobi Method"
      ],
      "metadata": {
        "id": "-YnHjAZYkTq9"
      }
    },
    {
      "cell_type": "code",
      "source": [
        "def jacobi_method(A, b, x0, epsilon, max_iterations):\n",
        "    n = len(A)\n",
        "    x = x0.copy()\n",
        "    for _ in range(max_iterations):\n",
        "        x_new = x.copy()\n",
        "        for i in range(n):\n",
        "            sigma = sum(A[i][j] * x[j] for j in range(n) if j != i)\n",
        "            x_new[i] = (b[i] - sigma) / A[i][i]\n",
        "        if max(abs(x_new[i] - x[i]) for i in range(n)) < epsilon:\n",
        "            return x_new\n",
        "        x = x_new\n",
        "    return x\n",
        "\n",
        "# Example usage\n",
        "A = [[4, -1, 1],\n",
        "     [4, -8, 1],\n",
        "     [-2, 1, 5]]\n",
        "\n",
        "b = [7, -21, 15]\n",
        "\n",
        "x0 = [0, 0, 0]\n",
        "epsilon = 0.001\n",
        "max_iterations = 100\n",
        "\n",
        "solution = jacobi_method(A, b, x0, epsilon, max_iterations)\n",
        "print(\"Solution:\", solution)\n"
      ],
      "metadata": {
        "colab": {
          "base_uri": "https://localhost:8080/"
        },
        "id": "9B0DWdxKkRTf",
        "outputId": "58973550-285b-41a1-df4b-5a3a8fe756eb"
      },
      "execution_count": 3,
      "outputs": [
        {
          "output_type": "stream",
          "name": "stdout",
          "text": [
            "Solution: [1.9998945312499998, 3.9997890625, 2.999841796875]\n"
          ]
        }
      ]
    },
    {
      "cell_type": "markdown",
      "source": [
        "Given Method"
      ],
      "metadata": {
        "id": "Hh8RJyrMkaPX"
      }
    },
    {
      "cell_type": "code",
      "source": [
        "import numpy as np\n",
        "\n",
        "def givens_rotation(A, b):\n",
        "    m, n = A.shape\n",
        "    Q = np.eye(m)\n",
        "    R = np.copy(A)\n",
        "    for j in range(n):\n",
        "        for i in range(m-1, j, -1):\n",
        "            if R[i, j] != 0:\n",
        "                r = np.sqrt(R[i-1, j]**2 + R[i, j]**2)\n",
        "                c = R[i-1, j] / r\n",
        "                s = -R[i, j] / r\n",
        "                G = np.eye(m)\n",
        "                G[[i-1, i], [i-1, i]] = c\n",
        "                G[i-1, i] = s\n",
        "                G[i, i-1] = -s\n",
        "                R = np.dot(G, R)\n",
        "                Q = np.dot(Q, G.T)\n",
        "                b = np.dot(G, b)\n",
        "    return Q, R, b\n",
        "\n",
        "# Example usage\n",
        "A = np.array([[4, 3], [3, 2]])\n",
        "b = np.array([1, 1])\n",
        "Q, R, b = givens_rotation(A, b)\n",
        "\n",
        "print(\"Q:\")\n",
        "print(Q)\n",
        "print(\"R:\")\n",
        "print(R)\n",
        "print(\"b:\")\n",
        "print(b)\n"
      ],
      "metadata": {
        "colab": {
          "base_uri": "https://localhost:8080/"
        },
        "id": "NiTEbyZTkc1Z",
        "outputId": "eb6d8bc1-b088-45cc-b2b9-ddbe3dfa4477"
      },
      "execution_count": 4,
      "outputs": [
        {
          "output_type": "stream",
          "name": "stdout",
          "text": [
            "Q:\n",
            "[[ 0.8  0.6]\n",
            " [-0.6  0.8]]\n",
            "R:\n",
            "[[1.4 1.2]\n",
            " [4.8 3.4]]\n",
            "b:\n",
            "[0.2 1.4]\n"
          ]
        }
      ]
    },
    {
      "cell_type": "markdown",
      "source": [
        "Fixed point iteration method"
      ],
      "metadata": {
        "id": "mZBcN-sqkr3Y"
      }
    },
    {
      "cell_type": "code",
      "source": [
        "import numpy as np\n",
        "\n",
        "def fixed_point_iteration(g, x0, tol=1e-6, max_iter=100):\n",
        "    x = x0\n",
        "    for i in range(max_iter):\n",
        "        x_new = g(x)\n",
        "        if np.abs(x_new - x) < tol:\n",
        "            return x_new, i+1\n",
        "        x = x_new\n",
        "    return x, max_iter\n",
        "\n",
        "# Example usage\n",
        "def g(x):\n",
        "    return np.exp(-x)\n",
        "\n",
        "x0 = 0  # Initial guess\n",
        "\n",
        "root, num_iter = fixed_point_iteration(g, x0)\n",
        "\n",
        "print(\"Approximate root:\", root)\n",
        "print(\"Number of iterations:\", num_iter)\n"
      ],
      "metadata": {
        "colab": {
          "base_uri": "https://localhost:8080/"
        },
        "id": "e5qm8yARkn9t",
        "outputId": "993818ab-5f67-4811-f755-c48532633f4f"
      },
      "execution_count": 6,
      "outputs": [
        {
          "output_type": "stream",
          "name": "stdout",
          "text": [
            "Approximate root: 0.5671430308342419\n",
            "Number of iterations: 26\n"
          ]
        }
      ]
    },
    {
      "cell_type": "markdown",
      "source": [
        "Thomas Algorithm for Tridiagonal systems !!"
      ],
      "metadata": {
        "id": "OUpTi3v7kwUR"
      }
    },
    {
      "cell_type": "code",
      "source": [
        "import numpy as np\n",
        "\n",
        "def thomas_algorithm(a, b, c, d):\n",
        "    n = len(d)\n",
        "    c_temp = np.copy(c)\n",
        "    d_temp = np.copy(d)\n",
        "\n",
        "    # Forward elimination\n",
        "    for i in range(1, n):\n",
        "        m = a[i] / c_temp[i-1]\n",
        "        c_temp[i] = c_temp[i] - m * b[i-1]\n",
        "        d_temp[i] = d_temp[i] - m * d_temp[i-1]\n",
        "\n",
        "    # Backward substitution\n",
        "    x = np.zeros_like(d)\n",
        "    x[-1] = d_temp[-1] / c_temp[-1]\n",
        "    for i in range(n-2, -1, -1):\n",
        "        x[i] = (d_temp[i] - b[i] * x[i+1]) / c_temp[i]\n",
        "\n",
        "    return x\n",
        "\n",
        "# Example usage\n",
        "a = np.array([1, 2, 3])  # Lower diagonal\n",
        "b = np.array([4, 5, 6])  # Main diagonal\n",
        "c = np.array([7, 8, 9])  # Upper diagonal\n",
        "d = np.array([10, 11, 12])  # Right-hand side\n",
        "\n",
        "x = thomas_algorithm(a, b, c, d)\n",
        "\n",
        "print(\"Solution:\")\n",
        "print(x)\n"
      ],
      "metadata": {
        "colab": {
          "base_uri": "https://localhost:8080/"
        },
        "id": "lDhPCclukyPO",
        "outputId": "e8f05410-89e3-42df-fd86-82d26f81e241"
      },
      "execution_count": 7,
      "outputs": [
        {
          "output_type": "stream",
          "name": "stdout",
          "text": [
            "Solution:\n",
            "[1 0 1]\n"
          ]
        }
      ]
    },
    {
      "cell_type": "markdown",
      "source": [
        "Newton Method for solving nonlinear systems"
      ],
      "metadata": {
        "id": "o0tfeZoklGCP"
      }
    },
    {
      "cell_type": "code",
      "source": [
        "def newton_method(f, df, x0, tol=1e-6, max_iter=100):\n",
        "    x = x0\n",
        "    for i in range(max_iter):\n",
        "        fx = f(x)\n",
        "        if abs(fx) < tol:\n",
        "            return x\n",
        "        dfx = df(x)\n",
        "        if dfx == 0:\n",
        "            break\n",
        "        x = x - fx / dfx\n",
        "    return None\n",
        "\n",
        "# Example usage:\n",
        "def f(x):\n",
        "    return x**2 - 2\n",
        "\n",
        "def df(x):\n",
        "    return 2 * x\n",
        "\n",
        "root = newton_method(f, df, 1.5)\n",
        "if root is not None:\n",
        "    print(\"Root:\", root)\n",
        "else:\n",
        "    print(\"No root found within the specified tolerance.\")\n"
      ],
      "metadata": {
        "colab": {
          "base_uri": "https://localhost:8080/"
        },
        "id": "mdy08DsElGra",
        "outputId": "3d10169f-0cce-4712-89aa-c0e55c1f36be"
      },
      "execution_count": 8,
      "outputs": [
        {
          "output_type": "stream",
          "name": "stdout",
          "text": [
            "Root: 1.4142135623746899\n"
          ]
        }
      ]
    },
    {
      "cell_type": "markdown",
      "source": [
        "Linear interpolation"
      ],
      "metadata": {
        "id": "O0peaBDllG4B"
      }
    },
    {
      "cell_type": "code",
      "source": [
        "def linear_interpolation(x, x_values, y_values):\n",
        "    n = len(x_values)\n",
        "\n",
        "    if x <= x_values[0]:\n",
        "        return y_values[0]\n",
        "    elif x >= x_values[n-1]:\n",
        "        return y_values[n-1]\n",
        "\n",
        "    for i in range(1, n):\n",
        "        if x < x_values[i]:\n",
        "            slope = (y_values[i] - y_values[i-1]) / (x_values[i] - x_values[i-1])\n",
        "            y = y_values[i-1] + slope * (x - x_values[i-1])\n",
        "            return y\n",
        "\n",
        "# Example usage\n",
        "x_values = [1, 2, 3, 4, 5]  # Known x values\n",
        "y_values = [10, 15, 7, 9, 12]  # Known y values\n",
        "\n",
        "x = 2.5  # Value to interpolate\n",
        "y = linear_interpolation(x, x_values, y_values)\n",
        "\n",
        "print(\"Interpolated value at x =\", x, \":\", y)\n"
      ],
      "metadata": {
        "colab": {
          "base_uri": "https://localhost:8080/"
        },
        "id": "7kbuNKzelHA2",
        "outputId": "e676e7a4-3d5b-49db-a513-89ecf17cb456"
      },
      "execution_count": 9,
      "outputs": [
        {
          "output_type": "stream",
          "name": "stdout",
          "text": [
            "Interpolated value at x = 2.5 : 11.0\n"
          ]
        }
      ]
    },
    {
      "cell_type": "markdown",
      "source": [
        "Piecewise polynomial interpolation : Cubic spline interpolation"
      ],
      "metadata": {
        "id": "osoTS__AlSzO"
      }
    },
    {
      "cell_type": "code",
      "source": [
        "from scipy.interpolate import CubicSpline\n",
        "\n",
        "def piecewise_polynomial_interpolation(x, x_values, y_values):\n",
        "    cs = CubicSpline(x_values, y_values)\n",
        "    return cs(x)\n",
        "\n",
        "# Example usage\n",
        "x_values = [1, 2, 3, 4, 5]  # Known x values\n",
        "y_values = [10, 15, 7, 9, 12]  # Known y values\n",
        "\n",
        "x = 2.5  # Value to interpolate\n",
        "y = piecewise_polynomial_interpolation(x, x_values, y_values)\n",
        "\n",
        "print(\"Interpolated value at x =\", x, \":\", y)\n"
      ],
      "metadata": {
        "colab": {
          "base_uri": "https://localhost:8080/"
        },
        "id": "5Qx_LxMDlTho",
        "outputId": "4c9f034b-40df-4b58-b1b9-d1be29e9ccc7"
      },
      "execution_count": 10,
      "outputs": [
        {
          "output_type": "stream",
          "name": "stdout",
          "text": [
            "Interpolated value at x = 2.5 : 10.6875\n"
          ]
        }
      ]
    },
    {
      "cell_type": "markdown",
      "source": [
        "Sterling’s formula"
      ],
      "metadata": {
        "id": "0ybmJZSplXKE"
      }
    },
    {
      "cell_type": "code",
      "source": [
        "def sterling_interpolation(x, x_values, y_values):\n",
        "    n = len(x_values)\n",
        "    if n != len(y_values):\n",
        "        raise ValueError(\"x_values and y_values must have the same length\")\n",
        "\n",
        "    result = 0.0\n",
        "    for i in range(n):\n",
        "        term = y_values[i]\n",
        "        for j in range(n):\n",
        "            if i != j:\n",
        "                term *= (x - x_values[j]) / (x_values[i] - x_values[j])\n",
        "        result += term\n",
        "\n",
        "    return result\n",
        "\n",
        "# Example usage:\n",
        "x_values = [1, 2, 4, 5]\n",
        "y_values = [3, 5, 6, 8]\n",
        "x = 3.5\n",
        "\n",
        "interpolated_value = sterling_interpolation(x, x_values, y_values)\n",
        "print(\"Interpolated value at x =\", x, \":\", interpolated_value)\n"
      ],
      "metadata": {
        "colab": {
          "base_uri": "https://localhost:8080/"
        },
        "id": "1Zu-CfxllWm7",
        "outputId": "6c4e1130-885b-4602-d233-a01f973d8c7b"
      },
      "execution_count": 12,
      "outputs": [
        {
          "output_type": "stream",
          "name": "stdout",
          "text": [
            "Interpolated value at x = 3.5 : 5.65625\n"
          ]
        }
      ]
    },
    {
      "cell_type": "markdown",
      "source": [
        "Bessel’s formula !!"
      ],
      "metadata": {
        "id": "TDtVWGYTldTN"
      }
    },
    {
      "cell_type": "code",
      "source": [
        "import numpy as np\n",
        "\n",
        "def bessel_interpolation(x, y, x_interp):\n",
        "    n = len(x)\n",
        "    m = len(x_interp)\n",
        "    y_interp = np.zeros(m)\n",
        "\n",
        "    for k in range(m):\n",
        "        for i in range(n):\n",
        "            numerator = np.math.factorial(n - 1 + i) * np.math.factorial(n - 1 - i)\n",
        "            denominator = (np.math.factorial(2 * n - 2) * (x_interp[k] - x[i])**(n - 1))\n",
        "            y_interp[k] += y[i] * numerator / denominator\n",
        "\n",
        "    return y_interp\n",
        "\n",
        "# Example usage:\n",
        "x = np.array([1, 2, 3, 4])\n",
        "y = np.array([0, 1, 0, -1])\n",
        "x_interp = np.linspace(1, 4, 100)\n",
        "y_interp = bessel_interpolation(x, y, x_interp)\n",
        "\n",
        "print(\"Interpolated value at x =\", x, \":\", y_interp )\n"
      ],
      "metadata": {
        "colab": {
          "base_uri": "https://localhost:8080/"
        },
        "id": "6K2q7x6jlgDc",
        "outputId": "f7d8008f-1e78-4377-9716-9b7db0bea14d"
      },
      "execution_count": 11,
      "outputs": [
        {
          "output_type": "stream",
          "name": "stdout",
          "text": [
            "Interpolated value at x = [1 2 3 4] : [            nan -3.49315812e-02 -4.10447126e-02 -4.81144368e-02\n",
            " -5.63176619e-02 -6.58709726e-02 -7.70413273e-02 -9.01601737e-02\n",
            " -1.05642263e-01 -1.24010995e-01 -1.45932964e-01 -1.72265625e-01\n",
            " -2.04123982e-01 -2.42975258e-01 -2.90775497e-01 -3.50170181e-01\n",
            " -4.24794696e-01 -5.19734225e-01 -6.42244861e-01 -8.02915503e-01\n",
            " -1.01759827e+00 -1.31073007e+00 -1.72128280e+00 -2.31393448e+00\n",
            " -3.20123575e+00 -4.59061259e+00 -6.89246065e+00 -1.09953848e+01\n",
            " -1.90659924e+01 -3.73296024e+01 -8.86239391e+01 -2.99360708e+02\n",
            " -2.39568051e+03             inf  2.39593086e+03  2.99612089e+02\n",
            "  8.88770543e+01  3.75851630e+01  1.93247260e+01  1.12580417e+01\n",
            "  7.15981859e+00  4.86348339e+00  3.48047136e+00  2.60043397e+00\n",
            "  2.01600000e+00  1.61468193e+00  1.33187421e+00  1.12868785e+00\n",
            "  9.80780569e-01  8.72408109e-01  7.93104483e-01  7.35753641e-01\n",
            "  6.95430076e-01  6.68680638e-01  6.53068135e-01  6.46875000e-01\n",
            "  6.48907611e-01  6.58365601e-01  6.74754279e-01  6.97826503e-01\n",
            "  7.27545377e-01  7.64062307e-01  8.07707076e-01  8.58987963e-01\n",
            "  9.18601019e-01  9.87448433e-01             nan  1.15766583e+00\n",
            "  1.26218263e+00  1.38235031e+00  1.52079043e+00  1.68073341e+00\n",
            "  1.86617716e+00  2.08209755e+00  2.33472954e+00  2.63194660e+00\n",
            "  2.98377830e+00  3.40312500e+00  3.90675783e+00  4.51673871e+00\n",
            "  5.26246931e+00  6.18370045e+00  7.33503932e+00  8.79284804e+00\n",
            "  1.06660609e+01  1.31136132e+01  1.63733979e+01  2.08120899e+01\n",
            "  2.70144000e+01  3.59506423e+01  4.93092331e+01  7.02017322e+01\n",
            "  1.04784260e+02  1.66386092e+02  2.87506555e+02  5.61525678e+02\n",
            "  1.33100958e+03  4.49213414e+03  3.59370087e+04            -inf]\n"
          ]
        },
        {
          "output_type": "stream",
          "name": "stderr",
          "text": [
            "<ipython-input-11-b4e2b7249ab8>:12: RuntimeWarning: invalid value encountered in true_divide\n",
            "  y_interp[k] += y[i] * numerator / denominator\n",
            "<ipython-input-11-b4e2b7249ab8>:12: RuntimeWarning: divide by zero encountered in true_divide\n",
            "  y_interp[k] += y[i] * numerator / denominator\n"
          ]
        }
      ]
    },
    {
      "cell_type": "markdown",
      "source": [
        "Richardson Extrapolation"
      ],
      "metadata": {
        "id": "3ZnK5FQ_llvB"
      }
    },
    {
      "cell_type": "code",
      "source": [
        "def richardson_extrapolation(f, x, h, num_terms):\n",
        "    R = np.zeros((num_terms, num_terms))\n",
        "    for i in range(num_terms):\n",
        "        R[i, 0] = (f(x + h) - f(x - h)) / (2 * h)\n",
        "        for j in range(1, i+1):\n",
        "            R[i, j] = R[i, j-1] + (R[i, j-1] - R[i-1, j-1]) / ((4 ** j) - 1)\n",
        "        h /= 2\n",
        "    return R[num_terms-1, num_terms-1]\n",
        "\n",
        "# Example usage\n",
        "import numpy as np\n",
        "\n",
        "def f(x):\n",
        "    return np.sin(x)\n",
        "\n",
        "x = 1.0  # Value at which to evaluate the derivative\n",
        "h = 0.1  # Initial step size\n",
        "num_terms = 5  # Number of Richardson extrapolation terms\n",
        "\n",
        "derivative = richardson_extrapolation(f, x, h, num_terms)\n",
        "\n",
        "print(\"Approximate derivative:\", derivative)\n"
      ],
      "metadata": {
        "colab": {
          "base_uri": "https://localhost:8080/"
        },
        "id": "h56e6JjVlnkq",
        "outputId": "49ed4ca5-0522-4e2b-b0d2-24980fcd748c"
      },
      "execution_count": 13,
      "outputs": [
        {
          "output_type": "stream",
          "name": "stdout",
          "text": [
            "Approximate derivative: 0.5403023058681485\n"
          ]
        }
      ]
    },
    {
      "cell_type": "markdown",
      "source": [
        "Boole and Romberg Intergrations"
      ],
      "metadata": {
        "id": "6JgX7vf5lqlb"
      }
    },
    {
      "cell_type": "code",
      "source": [
        "import numpy as np\n",
        "\n",
        "def boole_integration(f, a, b, n):\n",
        "    h = (b - a) / n\n",
        "    x = np.linspace(a, b, n+1)\n",
        "    y = f(x)\n",
        "\n",
        "    integral = 0.0\n",
        "    for i in range(0, n//4):\n",
        "        integral += (7*y[4*i] + 32*y[4*i+1] + 12*y[4*i+2] + 32*y[4*i+3] + 7*y[4*i+4]) * h / 90\n",
        "\n",
        "    return integral\n",
        "\n",
        "def romberg_integration(f, a, b, n):\n",
        "    R = np.zeros((n, n))\n",
        "    h = b - a\n",
        "\n",
        "    R[0, 0] = 0.5 * h * (f(a) + f(b))\n",
        "\n",
        "    for i in range(1, n):\n",
        "        h /= 2\n",
        "        sum_term = 0.0\n",
        "\n",
        "        for k in range(1, 2**(i-1) + 1):\n",
        "            sum_term += f(a + (2*k - 1) * h)\n",
        "\n",
        "        R[i, 0] = 0.5 * R[i-1, 0] + h * sum_term\n",
        "\n",
        "        for j in range(1, i+1):\n",
        "            R[i, j] = R[i, j-1] + (R[i, j-1] - R[i-1, j-1]) / (4**j - 1)\n",
        "\n",
        "    return R[n-1, n-1]\n",
        "\n",
        "# Example usage:\n",
        "def f(x):\n",
        "    return np.sin(x)\n",
        "\n",
        "a = 0\n",
        "b = np.pi\n",
        "n = 10\n",
        "\n",
        "boole_integral = boole_integration(f, a, b, n)\n",
        "romberg_integral = romberg_integration(f, a, b, n)\n",
        "\n",
        "print(\"Boole's Integral:\", boole_integral)\n",
        "print(\"Romberg's Integral:\", romberg_integral)\n"
      ],
      "metadata": {
        "colab": {
          "base_uri": "https://localhost:8080/"
        },
        "id": "w6_eYZqJlvO8",
        "outputId": "29d902e6-e276-48c9-8e01-76b13d41925e"
      },
      "execution_count": 14,
      "outputs": [
        {
          "output_type": "stream",
          "name": "stdout",
          "text": [
            "Boole's Integral: 0.45225327861240916\n",
            "Romberg's Integral: 1.9999999999999998\n"
          ]
        }
      ]
    },
    {
      "cell_type": "markdown",
      "source": [
        "Evaluation of Double Integrals using Numerical Methods:\n",
        "\n",
        "Trapezoidal Rule\n"
      ],
      "metadata": {
        "id": "1Ti_nOFUlyEa"
      }
    },
    {
      "cell_type": "code",
      "source": [
        "def f(x, y):\n",
        "    \"\"\"The integrand function\"\"\"\n",
        "    return x**2 + y**2\n",
        "\n",
        "def trapezoidal_double_integral(f, a, b, c, d, n, m):\n",
        "    h_x = (b - a) / n  # width of each interval in x-direction\n",
        "    h_y = (d - c) / m  # width of each interval in y-direction\n",
        "\n",
        "    integral_sum = 0.0\n",
        "\n",
        "    for i in range(n):\n",
        "        x_i = a + i * h_x  # x-coordinate of the left endpoint of the interval\n",
        "        x_ip1 = x_i + h_x  # x-coordinate of the right endpoint of the interval\n",
        "\n",
        "        for j in range(m):\n",
        "            y_j = c + j * h_y  # y-coordinate of the lower endpoint of the interval\n",
        "            y_jp1 = y_j + h_y  # y-coordinate of the upper endpoint of the interval\n",
        "\n",
        "            # Calculate the average of the function values at the four corners of the interval\n",
        "            average = (f(x_i, y_j) + f(x_i, y_jp1) + f(x_ip1, y_j) + f(x_ip1, y_jp1)) / 4\n",
        "\n",
        "            integral_sum += average * h_x * h_y  # add the average multiplied by the area of the interval\n",
        "\n",
        "    return integral_sum\n",
        "\n",
        "# Example usage\n",
        "result = trapezoidal_double_integral(f, 0, 1, 0, 1, 100, 100)\n",
        "print(\"Approximate value of the double integral:\", result)\n"
      ],
      "metadata": {
        "colab": {
          "base_uri": "https://localhost:8080/"
        },
        "id": "6SauMCBgl1oI",
        "outputId": "574641ae-b22e-43a7-b89a-42f551a3c004"
      },
      "execution_count": 15,
      "outputs": [
        {
          "output_type": "stream",
          "name": "stdout",
          "text": [
            "Approximate value of the double integral: 0.6666999999999997\n"
          ]
        }
      ]
    },
    {
      "cell_type": "markdown",
      "source": [
        "Simpson Rule"
      ],
      "metadata": {
        "id": "97qseaY8l42j"
      }
    },
    {
      "cell_type": "code",
      "source": [
        "import numpy as np\n",
        "\n",
        "def double_integral_simpson13(f, a, b, c, d, m, n):\n",
        "    hx = (b - a) / m\n",
        "    hy = (d - c) / n\n",
        "\n",
        "    x = np.linspace(a, b, m+1)\n",
        "    y = np.linspace(c, d, n+1)\n",
        "\n",
        "    integral = 0.0\n",
        "\n",
        "    for i in range(m):\n",
        "        for j in range(n):\n",
        "            if (i+j) % 2 == 0:\n",
        "                coefficient = 1\n",
        "            else:\n",
        "                coefficient = 4\n",
        "\n",
        "            integral += coefficient * f(x[i], y[j])\n",
        "\n",
        "    integral *= (hx * hy) / 9\n",
        "\n",
        "    return integral\n",
        "\n",
        "# Example usage:\n",
        "def f(x, y):\n",
        "    return np.sin(x) + np.cos(y)\n",
        "\n",
        "a = 0\n",
        "b = np.pi\n",
        "c = 0\n",
        "d = np.pi\n",
        "m = 10\n",
        "n = 10\n",
        "\n",
        "integral = double_integral_simpson13(f, a, b, c, d, m, n)\n",
        "\n",
        "print(\"Double Integral:\", integral)\n"
      ],
      "metadata": {
        "colab": {
          "base_uri": "https://localhost:8080/"
        },
        "id": "u1e-cFxil5b0",
        "outputId": "1e4ab004-83e0-44a0-fd94-5abee10dc964"
      },
      "execution_count": 16,
      "outputs": [
        {
          "output_type": "stream",
          "name": "stdout",
          "text": [
            "Double Integral: 2.0051065038252993\n"
          ]
        }
      ]
    },
    {
      "cell_type": "markdown",
      "source": [
        "Milne method:"
      ],
      "metadata": {
        "id": "OGXUvfDXmA2z"
      }
    },
    {
      "cell_type": "code",
      "source": [
        "def milne_method(f, y0, t0, tn, h):\n",
        "    n = int((tn - t0) / h)\n",
        "    t = [t0 + i * h for i in range(n + 1)]\n",
        "    y = [y0] * (n + 1)\n",
        "\n",
        "    for i in range(3):\n",
        "        k1 = h * f(t[i], y[i])\n",
        "        k2 = h * f(t[i] + h/2, y[i] + k1/2)\n",
        "        k3 = h * f(t[i] + h/2, y[i] + k2/2)\n",
        "        k4 = h * f(t[i+1], y[i] + k3)\n",
        "        y[i+1] = y[i] + (k1 + 4*k2 + k3 + k4) / 6\n",
        "\n",
        "    for i in range(3, n):\n",
        "        y[i+1] = y[i-1] + 2*h/3 * (f(t[i], y[i]) + 4*f(t[i-1], y[i-1]) + f(t[i-2], y[i-2]))\n",
        "\n",
        "    return t, y\n",
        "\n",
        "def f(t, y):\n",
        "    return -2 * t * y + 4 * t - 3\n",
        "\n",
        "t, y = milne_method(f, 1, 0, 1, 0.1)\n",
        "\n",
        "# Print the results\n",
        "for i in range(len(t)):\n",
        "    print(f\"t = {t[i]}, y = {y[i]}\")\n"
      ],
      "metadata": {
        "colab": {
          "base_uri": "https://localhost:8080/"
        },
        "id": "MTa3OqL3mFwo",
        "outputId": "17b81aac-9533-4c66-837c-945999b46afd"
      },
      "execution_count": 17,
      "outputs": [
        {
          "output_type": "stream",
          "name": "stdout",
          "text": [
            "t = 0.0, y = 1\n",
            "t = 0.1, y = 0.6638689416666668\n",
            "t = 0.2, y = 0.3657130368631621\n",
            "t = 0.30000000000000004, y = 0.11797175301614266\n",
            "t = 0.4, y = -0.5668668097451097\n",
            "t = 0.5, y = -0.6004231785963852\n",
            "t = 0.6000000000000001, y = -0.970625881880373\n",
            "t = 0.7000000000000001, y = -0.7324273639005134\n",
            "t = 0.8, y = -0.7916375004748466\n",
            "t = 0.9, y = -0.3768964107765748\n",
            "t = 1.0, y = -0.2602847103483418\n"
          ]
        }
      ]
    },
    {
      "cell_type": "markdown",
      "source": [
        "Adam-Bashforth Method:"
      ],
      "metadata": {
        "id": "cz8ZqPPomH0I"
      }
    },
    {
      "cell_type": "code",
      "source": [
        "def adams_bashforth(f, x0, y0, h, n):\n",
        "    results = [(x0, y0)]\n",
        "    x = x0\n",
        "    y = y0\n",
        "\n",
        "    for i in range(1, n + 1):\n",
        "        k1 = h * f(x, y)\n",
        "        k2 = h * f(x - h, results[-1][1])\n",
        "        y += k1\n",
        "        y -= 1/2 * k2\n",
        "        x += h\n",
        "        results.append((x, y))\n",
        "\n",
        "    return results\n",
        "\n",
        "\n",
        "# Example usage\n",
        "\n",
        "def ode_function(x, y):\n",
        "    return x * y\n",
        "\n",
        "# Initial values\n",
        "x0 = 0\n",
        "y0 = 1\n",
        "\n",
        "# Step size and number of iterations\n",
        "h = 0.1\n",
        "n = 10\n",
        "\n",
        "# Solve the ODE using Adams-Bashforth method\n",
        "solution = adams_bashforth(ode_function, x0, y0, h, n)\n",
        "\n",
        "# Print the solution\n",
        "for x, y in solution:\n",
        "    print(f\"x = {x:.2f}, y = {y:.6f}\")\n"
      ],
      "metadata": {
        "colab": {
          "base_uri": "https://localhost:8080/"
        },
        "id": "ExqgXx6ImLKt",
        "outputId": "4dd4169b-7138-497e-b38d-637924d01165"
      },
      "execution_count": 18,
      "outputs": [
        {
          "output_type": "stream",
          "name": "stdout",
          "text": [
            "x = 0.00, y = 1.000000\n",
            "x = 0.10, y = 1.005000\n",
            "x = 0.20, y = 1.015050\n",
            "x = 0.30, y = 1.030276\n",
            "x = 0.40, y = 1.050881\n",
            "x = 0.50, y = 1.077153\n",
            "x = 0.60, y = 1.109468\n",
            "x = 0.70, y = 1.148299\n",
            "x = 0.80, y = 1.194231\n",
            "x = 0.90, y = 1.247972\n",
            "x = 1.00, y = 1.310370\n"
          ]
        }
      ]
    },
    {
      "cell_type": "markdown",
      "source": [
        "Runge-Kutta 2nd Order Method:"
      ],
      "metadata": {
        "id": "Rm_j_8WKmuC1"
      }
    },
    {
      "cell_type": "code",
      "source": [
        "import numpy as np\n",
        "import matplotlib.pyplot as plt\n",
        "\n",
        "def f(t, y):\n",
        "    return t - y\n",
        "\n",
        "def runge_kutta_2nd_order(f, t0, y0, h, num_steps):\n",
        "    t_values = np.zeros(num_steps + 1)\n",
        "    y_values = np.zeros(num_steps + 1)\n",
        "    t_values[0] = t0\n",
        "    y_values[0] = y0\n",
        "\n",
        "    for i in range(num_steps):\n",
        "        t = t_values[i]\n",
        "        y = y_values[i]\n",
        "\n",
        "        # Calculate the slope at the current point\n",
        "        k1 = h * f(t, y)\n",
        "\n",
        "        # Calculate the slope at the midpoint\n",
        "        k2 = h * f(t + h/2, y + k1/2)\n",
        "\n",
        "        # Update the next y value using the weighted average of the slopes\n",
        "        y_next = y + k2\n",
        "\n",
        "        # Update t and y values\n",
        "        t_values[i+1] = t + h\n",
        "        y_values[i+1] = y_next\n",
        "\n",
        "    return t_values, y_values\n",
        "\n",
        "# Define the initial conditions and parameters\n",
        "t0 = 0\n",
        "y0 = 1\n",
        "h = 0.1\n",
        "num_steps = 10\n",
        "\n",
        "t_values, y_values = runge_kutta_2nd_order(f, t0, y0, h, num_steps)\n",
        "for t, y in zip(t_values, y_values):\n",
        "    print(f\"t = {t}, y = {y}\")\n",
        "\n"
      ],
      "metadata": {
        "colab": {
          "base_uri": "https://localhost:8080/"
        },
        "id": "xhyP4H_gmxz6",
        "outputId": "18c3d474-adbe-4771-db3d-f4bdc263b121"
      },
      "execution_count": 19,
      "outputs": [
        {
          "output_type": "stream",
          "name": "stdout",
          "text": [
            "t = 0.0, y = 1.0\n",
            "t = 0.1, y = 0.91\n",
            "t = 0.2, y = 0.8380500000000001\n",
            "t = 0.30000000000000004, y = 0.78243525\n",
            "t = 0.4, y = 0.74160390125\n",
            "t = 0.5, y = 0.71415153063125\n",
            "t = 0.6, y = 0.6988071352212812\n",
            "t = 0.7, y = 0.6944204573752595\n",
            "t = 0.7999999999999999, y = 0.6999505139246098\n",
            "t = 0.8999999999999999, y = 0.7144552151017719\n",
            "t = 0.9999999999999999, y = 0.7370819696671036\n"
          ]
        }
      ]
    },
    {
      "cell_type": "markdown",
      "source": [
        "Runge-Kutta 4th Order Method:"
      ],
      "metadata": {
        "id": "smCUO0m9m1N0"
      }
    },
    {
      "cell_type": "code",
      "source": [
        "import numpy as np\n",
        "import matplotlib.pyplot as plt\n",
        "\n",
        "def f(t, y):\n",
        "      return t - y\n",
        "\n",
        "def runge_kutta_4th_order(f, t0, y0, h, num_steps):\n",
        "    t_values = np.zeros(num_steps + 1)\n",
        "    y_values = np.zeros(num_steps + 1)\n",
        "    t_values[0] = t0\n",
        "    y_values[0] = y0\n",
        "\n",
        "    for i in range(num_steps):\n",
        "        t = t_values[i]\n",
        "        y = y_values[i]\n",
        "\n",
        "        # Calculate the slopes at different points\n",
        "        k1 = h * f(t, y)\n",
        "        k2 = h * f(t + h/2, y + k1/2)\n",
        "        k3 = h * f(t + h/2, y + k2/2)\n",
        "        k4 = h * f(t + h, y + k3)\n",
        "\n",
        "        # Update the next y value using the weighted average of the slopes\n",
        "        y_next = y + (k1 + 2*k2 + 2*k3 + k4) / 6\n",
        "\n",
        "        # Update t and y values\n",
        "        t_values[i+1] = t + h\n",
        "        y_values[i+1] = y_next\n",
        "\n",
        "    return t_values, y_values\n",
        "\n",
        "# Define the initial conditions and parameters\n",
        "t0 = 0\n",
        "y0 = 1\n",
        "h = 0.1\n",
        "num_steps = 10\n",
        "\n",
        "# Solve the ODE using Runge-Kutta 4th Order Method\n",
        "t_values, y_values = runge_kutta_4th_order(f, t0, y0, h, num_steps)\n",
        "for t, y in zip(t_values, y_values):\n",
        "    print(f\"t = {t}, y = {y}\")\n"
      ],
      "metadata": {
        "colab": {
          "base_uri": "https://localhost:8080/"
        },
        "id": "LjFm1db2m38c",
        "outputId": "5b5ba2d3-44fc-419f-ce36-662829135c2b"
      },
      "execution_count": 20,
      "outputs": [
        {
          "output_type": "stream",
          "name": "stdout",
          "text": [
            "t = 0.0, y = 1.0\n",
            "t = 0.1, y = 0.909675\n",
            "t = 0.2, y = 0.8374618028125\n",
            "t = 0.30000000000000004, y = 0.7816368440023556\n",
            "t = 0.4, y = 0.7406405778349814\n",
            "t = 0.5, y = 0.7130618688467599\n",
            "t = 0.6, y = 0.6976238687526302\n",
            "t = 0.7, y = 0.693171237342458\n",
            "t = 0.7999999999999999, y = 0.6986585794688563\n",
            "t = 0.8999999999999999, y = 0.7131399824001513\n",
            "t = 0.9999999999999999, y = 0.735759548824997\n"
          ]
        }
      ]
    }
  ]
}